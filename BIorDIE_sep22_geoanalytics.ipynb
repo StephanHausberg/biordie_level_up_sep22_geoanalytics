{
 "cells": [
  {
   "cell_type": "markdown",
   "id": "6b26de27-d332-422f-8111-14fda6267ba5",
   "metadata": {},
   "source": [
    "BI or DIE - Level-up Session II 27.09.2022\n",
    "\n",
    "Creating fast but convincing Geo-Analytics-Visualization\n",
    "\n",
    "# Part I - preparation\n",
    "\n",
    "## Importing Moduls"
   ]
  },
  {
   "cell_type": "code",
   "execution_count": null,
   "id": "e0593781-2f60-4a30-a536-f59428b50868",
   "metadata": {},
   "outputs": [],
   "source": [
    "%load_ext lab_black"
   ]
  },
  {
   "cell_type": "code",
   "execution_count": null,
   "id": "bc4138fb-255b-4aba-a7a5-676845baec0b",
   "metadata": {},
   "outputs": [],
   "source": [
    "import pandas as pd\n",
    "import numpy as np\n",
    "\n",
    "from shapely.geometry import Point, MultiPoint, Polygon, LineString\n",
    "import shapefile\n",
    "\n",
    "import folium as fl # folium for the creating of interactive maps\n",
    "\n",
    "from pyproj import Transformer\n",
    "\n",
    "from sklearn.cluster import DBSCAN"
   ]
  },
  {
   "cell_type": "markdown",
   "id": "b9ebb8e0-293b-45ff-89d6-18c8985d7e73",
   "metadata": {},
   "source": [
    "## getting open data, cleanse and merge"
   ]
  },
  {
   "cell_type": "code",
   "execution_count": null,
   "id": "8a028f4d-a2ef-4568-9f6b-29977e26ee52",
   "metadata": {},
   "outputs": [],
   "source": [
    "def import_plz():\n",
    "    # shapefiles download from https://www.suche-postleitzahl.org/downloads\n",
    "    # on beginning of August 2022\n",
    "    # define names of files in fitting folder\n",
    "    filename = \"plz-5stellig/plz-5stellig.shp\"\n",
    "    filename2 = \"plz-5stellig/plz_einwohner.csv\"\n",
    "    \n",
    "    sf = shapefile.Reader(filename)\n",
    "    fields = [x[0] for x in sf.fields][1:]\n",
    "    records = sf.records()\n",
    "    shps = [s.points for s in sf.shapes()]\n",
    "    # fill dataframe with data\n",
    "    df_plz = pd.DataFrame(columns=fields, data=records)\n",
    "    df_plz = df_plz.assign(coords=shps)\n",
    "    \n",
    "    # read csv for point-data\n",
    "    df_plz2 = pd.read_csv(filename2, sep=\",\", decimal=\".\")\n",
    "    df_plz2[\"plz\"] = df_plz2.plz.astype(str)\n",
    "    \n",
    "    return df_plz, df_plz2\n",
    "\n",
    "\n",
    "df_plz, df_plz2 = import_plz()\n",
    "\n",
    "# data cleansing und selection\n",
    "plz_do = df_plz[df_plz.note.str.contains(\"Dortmund\")].reset_index(drop=True) # shrink to Dortmund\n",
    "\n",
    "plz_do[\"einw_pro_qkm\"] = plz_do[\"einwohner\"] / plz_do[\"qkm\"]  # einw_pro_qkm\n",
    "\n",
    "# shrink second dataframe to the selected zip codes from first dataframe\n",
    "df_plz22 = df_plz2[df_plz2.plz.isin(plz_do[\"plz\"].to_list())].reset_index()\n",
    "\n",
    "# creating buckets with suitable colors for visualization\n",
    "buckets = [0, 1600, 2300, 3000, 9000]\n",
    "buckets_name = [\"red\", \"orange\", \"yellow\", \"green\"]\n",
    "plz_do[\"col_einw\"] = pd.cut(plz_do.einw_pro_qkm, buckets, labels=buckets_name)"
   ]
  },
  {
   "cell_type": "markdown",
   "id": "0a3230ae-95a1-463c-84ea-4afab34ae197",
   "metadata": {},
   "source": [
    "## creating first map\n",
    "\n",
    "This map shows the distribution of zip codes in Dortmund. Color code symbolizes population density."
   ]
  },
  {
   "cell_type": "code",
   "execution_count": null,
   "id": "22c8e788-3651-40ff-b0cb-29696ca83ce8",
   "metadata": {},
   "outputs": [],
   "source": [
    "m = fl.Map(location=[51.5149, 7.4650], zoom_start=11, tiles=\"cartodbpositron\")\n",
    "\n",
    "fg = fl.FeatureGroup(name=\"PLZ_Gebiete\")  # create layer object for PLZ\n",
    "\n",
    "# iterate through plz gebiete\n",
    "for i in range(0, plz_do.shape[0]):\n",
    "    fl.GeoJson(\n",
    "        Polygon(plz_do.coords[i]),\n",
    "        style_function=lambda feature, col=plz_do.col_einw[i]: {\n",
    "            \"fillColor\": col,\n",
    "            \"color\": col,\n",
    "        },\n",
    "    ).add_to(fg)\n",
    "fg.add_to(m)\n",
    "\n",
    "\n",
    "fg = fl.FeatureGroup(name=\"Mittelpunkte\")\n",
    "for i in range(0, df_plz22.shape[0]):\n",
    "    fl.Marker(\n",
    "        location=[df_plz22.lat[i], df_plz22.lon[i]],\n",
    "        popup=df_plz22.note[i],\n",
    "        icon=fl.Icon(),\n",
    "    ).add_to(fg)\n",
    "fg.add_to(m)\n",
    "\n",
    "fl.LayerControl().add_to(m)\n",
    "# save to file\n",
    "m.save(\"visualization_01.html\")\n",
    "# alternatively for a view inside of notebook\n",
    "#m"
   ]
  },
  {
   "cell_type": "markdown",
   "id": "0ba70e2d-71c0-4c0c-b5a6-379e1ae6e4db",
   "metadata": {},
   "source": [
    "## Geo Analytics part\n",
    "\n",
    "Transform from latitude longitude representation to an isometric representation to perform DBSCAN algorithm to identify cluster. This leads to a specific density of zip codes - which correspondes to density of people living there."
   ]
  },
  {
   "cell_type": "code",
   "execution_count": null,
   "id": "e7496fd7-4ad4-431d-8a41-1202e6e3ef56",
   "metadata": {},
   "outputs": [],
   "source": [
    "transformer = Transformer.from_crs(4326, 25832)\n",
    "\n",
    "df_plz2[\"X\"], df_plz2[\"Y\"] = transformer.transform(df_plz2.lat, df_plz2.lon)\n",
    "\n",
    "X = df_plz2[[\"X\", \"Y\"]].to_numpy()\n",
    "\n",
    "clustering = DBSCAN(eps=1500, min_samples=2).fit(X)\n",
    "df_plz2[\"cluster\"] = clustering.labels_"
   ]
  },
  {
   "cell_type": "code",
   "execution_count": null,
   "id": "3c35ba41-3902-461a-952d-fc05fbb39db6",
   "metadata": {},
   "outputs": [],
   "source": [
    "# find out how many cluster have been identified regarding the parameter of 1.500 meter and min samples 2\n",
    "# -1 symbolizes noise\n",
    "df_plz2.cluster.value_counts(dropna=False)"
   ]
  },
  {
   "cell_type": "code",
   "execution_count": null,
   "id": "4c4a2264-b2ef-42c8-9f2d-97ab96fada0e",
   "metadata": {},
   "outputs": [],
   "source": [
    "m = fl.Map(location=[51.5149, 7.4650], zoom_start=5, tiles=\"cartodbpositron\")\n",
    "# create CircleMarker and then DBSCAN\n",
    "\n",
    "fg = fl.FeatureGroup(name=\"Mittelpunkte cluster\")\n",
    "for i in range(0, df_plz2.shape[0]):\n",
    "    if df_plz2.cluster[i] != -1:\n",
    "        fl.CircleMarker(\n",
    "            location=[df_plz2.lat[i], df_plz2.lon[i]],\n",
    "            radius=5,\n",
    "            color=\"blue\",\n",
    "            popup=df_plz2.note[i],\n",
    "            icon=fl.Icon(),\n",
    "        ).add_to(fg)\n",
    "fg.add_to(m)\n",
    "\n",
    "fg = fl.FeatureGroup(name=\"Mittelpunkte all\")\n",
    "for i in range(0, df_plz2.shape[0]):\n",
    "    fl.CircleMarker(\n",
    "        location=[df_plz2.lat[i], df_plz2.lon[i]],\n",
    "        radius=5,\n",
    "        color=\"blue\",\n",
    "        popup=df_plz2.note[i],\n",
    "        icon=fl.Icon(),\n",
    "    ).add_to(fg)\n",
    "fg.add_to(m)\n",
    "fl.LayerControl().add_to(m)\n",
    "m.save(\"visualization_02.html\")\n",
    "# alternatively\n",
    "#m"
   ]
  }
 ],
 "metadata": {
  "kernelspec": {
   "display_name": "Python 3 (ipykernel)",
   "language": "python",
   "name": "python3"
  },
  "language_info": {
   "codemirror_mode": {
    "name": "ipython",
    "version": 3
   },
   "file_extension": ".py",
   "mimetype": "text/x-python",
   "name": "python",
   "nbconvert_exporter": "python",
   "pygments_lexer": "ipython3",
   "version": "3.9.7"
  }
 },
 "nbformat": 4,
 "nbformat_minor": 5
}
